{
  "cells": [
    {
      "cell_type": "markdown",
      "id": "d4be78b5",
      "metadata": {
        "id": "d4be78b5"
      },
      "source": [
        "\n",
        "# Task: 1"
      ]
    },
    {
      "cell_type": "code",
      "execution_count": null,
      "id": "67d79933",
      "metadata": {
        "id": "67d79933",
        "outputId": "13473109-301e-4f5c-abf4-0dcfa605059e"
      },
      "outputs": [
        {
          "name": "stdout",
          "output_type": "stream",
          "text": [
            "Please enter a set of strings: Top Coder comp Wedn at midnight\n",
            "['Top', 'Coder', 'comp', 'Wedn', 'at', 'midnight']\n"
          ]
        }
      ],
      "source": [
        "#taking an input\n",
        "inp = input('Please enter a set of strings: ').split(' ')\n",
        "#print(inp)"
      ]
    },
    {
      "cell_type": "code",
      "execution_count": null,
      "id": "6751560a",
      "metadata": {
        "id": "6751560a",
        "outputId": "373c809c-6dd2-4a8d-a4e8-524b9c757fca"
      },
      "outputs": [
        {
          "name": "stdout",
          "output_type": "stream",
          "text": [
            "midnight Coder comp Wedn Top at "
          ]
        }
      ],
      "source": [
        "#check length of each string\n",
        "wlen = []\n",
        "for word in inp:\n",
        "    wlen.append(len(word))\n",
        "#print (wlen)\n",
        "b= wlen.copy()\n",
        "for i in range(len(b)):\n",
        "    l = i\n",
        "    for j in range(i+1, len(b)):\n",
        "        if b[j]> b[l]:\n",
        "            l = j\n",
        "    temp = b[i]\n",
        "    b[i] = b[l]\n",
        "    b[l] = temp\n",
        "    temp = inp[i]\n",
        "    inp[i] = inp[l]\n",
        "    inp[l] = temp\n",
        "    print(inp[i], end=' ')\n",
        "    \n"
      ]
    },
    {
      "cell_type": "code",
      "execution_count": null,
      "id": "ef749449",
      "metadata": {
        "id": "ef749449",
        "outputId": "3496e0f1-a38b-4ca1-de01-3c1de6581636"
      },
      "outputs": [
        {
          "name": "stdout",
          "output_type": "stream",
          "text": [
            "Please enter your number: 4\n",
            "Please enter a set of strings: dsfdsfsd\n",
            "dsfdsfsd Please enter a set of strings: dsfdsgsfg\n",
            "dsfdsgsfg Please enter a set of strings: dsfsfgwrsg\n",
            "dsfsfgwrsg Please enter a set of strings: dsgsdgsdfds\n",
            "dsgsdgsdfds "
          ]
        }
      ],
      "source": [
        "n= int(input('Please enter your number: '))\n",
        "for m in range(n):\n",
        "    inp = input('Please enter a set of strings: ').split(' ')\n",
        "    b = []\n",
        "    for word in inp:\n",
        "        b.append(len(word))\n",
        "    for i in range(len(b)):\n",
        "        l = i\n",
        "        for j in range(i+1, len(b)):\n",
        "            if b[j]> b[l]:\n",
        "                l = j\n",
        "        temp = b[i]\n",
        "        b[i] = b[l]\n",
        "        b[l] = temp\n",
        "        temp = inp[i]\n",
        "        inp[i] = inp[l]\n",
        "        inp[l] = temp\n",
        "        print(inp[i], end=' ')"
      ]
    },
    {
      "cell_type": "markdown",
      "id": "da255220",
      "metadata": {
        "id": "da255220"
      },
      "source": [
        "# Task: 2"
      ]
    },
    {
      "cell_type": "code",
      "execution_count": null,
      "id": "f285f7a4",
      "metadata": {
        "id": "f285f7a4",
        "outputId": "c2a645e6-b941-4b9c-ac0b-79432eb78f07"
      },
      "outputs": [
        {
          "name": "stdout",
          "output_type": "stream",
          "text": [
            "Please enter your name: hg\n",
            "A B C D E F G H I J K L M N O P Q R S T U V W X Y Z "
          ]
        }
      ],
      "source": [
        "inp = input('Please enter your name: ')\n",
        "sum = 3\n",
        "alpha = []\n",
        "import string\n",
        "for alphabets in string.ascii_uppercase:\n",
        "    alpha.append(alphabets)\n",
        "    print(alphabets, end =\" \")"
      ]
    },
    {
      "cell_type": "code",
      "execution_count": null,
      "id": "3d10f0f9",
      "metadata": {
        "id": "3d10f0f9",
        "outputId": "e8b7e9ca-4028-4d52-ed8a-b73eaca1d5db"
      },
      "outputs": [
        {
          "name": "stdout",
          "output_type": "stream",
          "text": [
            "A B C D E F G H I J K L M N O P Q R S T U V W X Y Z "
          ]
        }
      ],
      "source": [
        "import string\n",
        "for alphabets in string.ascii_uppercase:\n",
        "    print(alphabets, end =\" \")"
      ]
    },
    {
      "cell_type": "code",
      "execution_count": null,
      "id": "36eb36c9",
      "metadata": {
        "id": "36eb36c9",
        "outputId": "e153b06a-a29f-444d-810e-7db82118c4ad"
      },
      "outputs": [
        {
          "name": "stdout",
          "output_type": "stream",
          "text": [
            "Please enter your number: 4\n",
            "Please enter a set of strings: asdfsd\n",
            "asdfsd Please enter a set of strings: dfdsf\n",
            "dfdsf Please enter a set of strings: sdfsd\n",
            "sdfsd Please enter a set of strings: ds\n",
            "ds "
          ]
        }
      ],
      "source": [
        "\n",
        "n= int(input('Please enter your number: '))\n",
        "for m in range(n):\n",
        "    inp = input('Please enter a set of strings: ').split(' ')\n",
        "    b = []\n",
        "    for word in inp:\n",
        "        b.append(len(word))\n",
        "    for i in range(len(b)):\n",
        "        l = i\n",
        "        for j in range(i+1, len(b)):\n",
        "            if b[j]> b[l]:\n",
        "                l = j\n",
        "        temp = b[i]\n",
        "        b[i] = b[l]\n",
        "        b[l] = temp\n",
        "        temp = inp[i]\n",
        "        inp[i] = inp[l]\n",
        "        inp[l] = temp\n",
        "        print(inp[i], end=' ')"
      ]
    },
    {
      "cell_type": "code",
      "execution_count": null,
      "id": "05434da7",
      "metadata": {
        "id": "05434da7"
      },
      "outputs": [],
      "source": []
    }
  ],
  "metadata": {
    "kernelspec": {
      "display_name": "Python 3 (ipykernel)",
      "language": "python",
      "name": "python3"
    },
    "language_info": {
      "codemirror_mode": {
        "name": "ipython",
        "version": 3
      },
      "file_extension": ".py",
      "mimetype": "text/x-python",
      "name": "python",
      "nbconvert_exporter": "python",
      "pygments_lexer": "ipython3",
      "version": "3.9.7"
    },
    "colab": {
      "provenance": []
    }
  },
  "nbformat": 4,
  "nbformat_minor": 5
}