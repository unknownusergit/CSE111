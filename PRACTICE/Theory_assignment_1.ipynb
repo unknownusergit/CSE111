{
 "cells": [
  {
   "cell_type": "markdown",
   "id": "210bea10",
   "metadata": {
    "id": "210bea10"
   },
   "source": [
    "# Task 1"
   ]
  },
  {
   "cell_type": "code",
   "execution_count": null,
   "id": "f0431007",
   "metadata": {
    "id": "f0431007",
    "outputId": "809d84a0-ff6b-4c9a-d067-2edd418f42b1"
   },
   "outputs": [
    {
     "name": "stdout",
     "output_type": "stream",
     "text": [
      "Please enter your number: 4\n",
      "Please enter a set of strings: Top Coder comp Wedn at midnight\n",
      "midnight Coder comp Wedn Top at Please enter a set of strings: one three five\n",
      "three five one Please enter a set of strings: I love Cpp\n",
      "love Cpp I Please enter a set of strings: sj a sa df r e w f d s a v c x z sd fd\n",
      "sj sa df sd fd e w f d s a v c x z a r "
     ]
    }
   ],
   "source": [
    "n= int(input('Please enter your number: '))\n",
    "for m in range(n):\n",
    "    inp = input('Please enter a set of strings: ').split(' ')\n",
    "    b = []\n",
    "    for word in inp:\n",
    "        b.append(len(word))\n",
    "    for i in range(len(b)):\n",
    "        l = i\n",
    "        for j in range(i+1, len(b)):\n",
    "            if b[j]> b[l]:\n",
    "                l = j\n",
    "        temp = b[i]\n",
    "        b[i] = b[l]\n",
    "        b[l] = temp\n",
    "        temp = inp[i]\n",
    "        inp[i] = inp[l]\n",
    "        inp[l] = temp\n",
    "        print(inp[i], end=' ')"
   ]
  }
 ],
 "metadata": {
  "colab": {
   "provenance": []
  },
  "kernelspec": {
   "display_name": "Python 3 (ipykernel)",
   "language": "python",
   "name": "python3"
  },
  "language_info": {
   "codemirror_mode": {
    "name": "ipython",
    "version": 3
   },
   "file_extension": ".py",
   "mimetype": "text/x-python",
   "name": "python",
   "nbconvert_exporter": "python",
   "pygments_lexer": "ipython3",
   "version": "3.9.7"
  }
 },
 "nbformat": 4,
 "nbformat_minor": 5
}
