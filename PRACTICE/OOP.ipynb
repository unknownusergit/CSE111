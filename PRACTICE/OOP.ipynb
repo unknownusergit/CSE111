{
  "nbformat": 4,
  "nbformat_minor": 0,
  "metadata": {
    "colab": {
      "provenance": []
    },
    "kernelspec": {
      "name": "python3",
      "display_name": "Python 3"
    },
    "language_info": {
      "name": "python"
    }
  },
  "cells": [
    {
      "cell_type": "code",
      "execution_count": null,
      "metadata": {
        "colab": {
          "base_uri": "https://localhost:8080/"
        },
        "id": "DY4FM_MPRonj",
        "outputId": "e22cf6fd-31a8-46c6-b7b7-d8365c252049"
      },
      "outputs": [
        {
          "output_type": "stream",
          "name": "stdout",
          "text": [
            "<__main__.Student object at 0x7fcc27ddd610>\n",
            "XYZ 12345 CSE 3.99\n",
            "Sakib Al Hasan 9867 CSE 3.99\n",
            "XYZ 12345 CSE 3.99\n",
            "Tamim Iqbal 45678 CSE 3.99\n",
            "Sakib Al Hasan 9867 CSE 3.99\n"
          ]
        }
      ],
      "source": [
        "#OOP Class 1\n",
        "#Design\n",
        "class Student:\n",
        "    def __init__(self):\n",
        "        self.name = \"XYZ\"\n",
        "        self.ID = 12345\n",
        "        self.dept = \"CSE\"\n",
        "        self.cg = 3.99\n",
        "        \n",
        "#Driver code\n",
        "s1 = Student() #Object creation and initialization\n",
        "print(s1)#Hexadecimal address where the object is created will be printed.\n",
        "print(s1.name,s1.ID,s1.dept,s1.cg)#Before changing\n",
        "s1.name  = \"Sakib Al Hasan\"\n",
        "s1.ID = 9867\n",
        "print(s1.name,s1.ID,s1.dept,s1.cg)#After changing name and ID.\n",
        "\n",
        "s2 = Student()#Object creation and initialization\n",
        "print(s2.name,s2.ID,s2.dept,s2.cg)\n",
        "\n",
        "#The object referred by s2 is diffrenet from the object referred by s1.\n",
        "#So changing the variables of the object referred to by s2 will have\n",
        "#no effect on s1 and vise versa.\n",
        "s2.name = \"Tamim Iqbal\"\n",
        "s2.ID = 45678\n",
        "print(s2.name,s2.ID,s2.dept,s2.cg)\n",
        "#changing the name and ID of the object referred by s2 has no effect on\n",
        "#the variables of the object referred by s1.\n",
        "print(s1.name,s1.ID,s1.dept,s1.cg)\n",
        "\n",
        "#If we create another object whose location will be referred by s1,\n",
        "#the reference to the previous object referred to by s1 will be lost.\n",
        "#The previous object referred to by s1 will be removed from memory.\n",
        "#Now s1 will refer to the newly created object.\n",
        "#Please uncomment the lines for testing\n",
        "#s1 = Student()\n",
        "#print(s1.name,s1.ID,s1.dept,s1.cg)\n",
        "\n",
        "#if we write s1 = s2 then s1 and s2 both will refer to the same object.\n",
        "#the reference to the previous object referred to by s1 will be lost.\n",
        "#The previous object referred to by s1 will be removed from memory.\n",
        "#Please uncomment the lines for testing\n",
        "#s1 = s2\n",
        "#print(s1.name,s1.ID,s1.dept,s1.cg)\n",
        "#print(s2.name,s2.ID,s2.dept,s2.cg)\n",
        "#s1.name = \"Imrul Kayes\"\n",
        "#print(s1.name,s1.ID,s1.dept,s1.cg)\n",
        "#print(s2.name,s2.ID,s2.dept,s2.cg)\n",
        "#As you can see, the changing the value of s1.name changed the value\n",
        "#of both s1.name and s2.name because they both refer to the same object."
      ]
    },
    {
      "cell_type": "code",
      "source": [
        "#OOP Class 2\n",
        "#Design\n",
        "class Student:\n",
        "    def __init__(self,n,i,d,c):\n",
        "      #Instance variables\n",
        "        self.name = n\n",
        "        self.ID = i\n",
        "        self.dept = d\n",
        "        self.cg = c\n",
        "    def printDetails(self): #self will receive the address of  the object referred to by s1 or s2 depending which one you are using to call the method \n",
        "      print(f\"Name:{self.name}\")\n",
        "      print(f\"ID:{self.ID}\")\n",
        "      print(f\"Department:{self.dept}\")\n",
        "      print(f\"CGPA:{self.cg}\")\n",
        "\n",
        "s1 = Student(\"Bob\",18301120,\"CSE\",3.97) #Passing arguments to init method instead of setting hardcoded values\n",
        "s2 = Student(\"Alice\",19023103,\"CS\",3.78) #Passing arguments to init method instead of setting hardcoded values\n",
        "\n",
        "s1.printDetails() #Calling printDetails method to print the values of the instance variables of the object referred to by s1\n",
        "print(\"-----------------------------------\")\n",
        "s2.printDetails() #Calling printDetails method to print the values of the instance variables of the object referred to by s2"
      ],
      "metadata": {
        "colab": {
          "base_uri": "https://localhost:8080/"
        },
        "id": "KpDSZFhCIQ-n",
        "outputId": "c9847f62-afab-4ce6-a963-ad83fff2aebe"
      },
      "execution_count": null,
      "outputs": [
        {
          "output_type": "stream",
          "name": "stdout",
          "text": [
            "Name:Bob\n",
            "ID:18301120\n",
            "Department:CSE\n",
            "CGPA:3.97\n",
            "-----------------------------------\n",
            "Name:Alice\n",
            "ID:19023103\n",
            "Department:CS\n",
            "CGPA:3.78\n"
          ]
        }
      ]
    },
    {
      "cell_type": "code",
      "source": [
        "#OOP Class 3\n",
        "#Example 1\n",
        "class Account:\n",
        "  def __init__(self,ac_no,ac_name,balance):\n",
        "    self.acc_no = ac_no\n",
        "    self.acc_name = ac_name\n",
        "    self.balance = balance\n",
        "  def printDetails(self):\n",
        "    print(f\"Account Number:{self.acc_no}\")\n",
        "    print(f\"Account Name:{self.acc_name}\")\n",
        "    print(f\"Current balance:{self.balance} tk\")\n",
        "  def deposit(self,amount):\n",
        "    self.balance += amount\n",
        "    self.printDetails()\n",
        "  def withdraw(self,amount):\n",
        "    if self.balance-amount>=500.0:\n",
        "      self.balance -= amount\n",
        "      self.printDetails()\n",
        "    else:\n",
        "      print(\"Withdraw unsuccessful. You do not have sufficient balance.\")\n",
        "\n",
        "acc1 = Account(1543563,\"Alice\",500000.0)\n",
        "acc2 = Account(4242342,\"Bob\",30000.0)\n",
        "acc1.printDetails()\n",
        "print(\"1.---------------------------------------\")\n",
        "acc2.printDetails()\n",
        "print(\"2.---------------------------------------\")\n",
        "acc1.deposit(50000.0)\n",
        "print(\"3.---------------------------------------\")\n",
        "acc2.deposit(1000.0)\n",
        "print(\"4.---------------------------------------\")\n",
        "acc1.withdraw(100000.0)\n",
        "print(\"5.---------------------------------------\")\n",
        "acc2.withdraw(100000.0)"
      ],
      "metadata": {
        "colab": {
          "base_uri": "https://localhost:8080/"
        },
        "id": "sFBquvCUKBus",
        "outputId": "63230774-34bb-43de-962c-3413c7596104"
      },
      "execution_count": null,
      "outputs": [
        {
          "output_type": "stream",
          "name": "stdout",
          "text": [
            "Account Number:1543563\n",
            "Account Name:Alice\n",
            "Current balance:500000.0 tk\n",
            "1.---------------------------------------\n",
            "Account Number:4242342\n",
            "Account Name:Bob\n",
            "Current balance:30000.0 tk\n",
            "2.---------------------------------------\n",
            "Account Number:1543563\n",
            "Account Name:Alice\n",
            "Current balance:550000.0 tk\n",
            "3.---------------------------------------\n",
            "Account Number:4242342\n",
            "Account Name:Bob\n",
            "Current balance:31000.0 tk\n",
            "4.---------------------------------------\n",
            "Account Number:1543563\n",
            "Account Name:Alice\n",
            "Current balance:450000.0 tk\n",
            "5.---------------------------------------\n",
            "Withdraw unsuccessful. You do not have sufficient balance.\n"
          ]
        }
      ]
    },
    {
      "cell_type": "code",
      "source": [
        "#OOP Class 3\n",
        "#Example 2\n",
        "class Student:\n",
        "  def __init__(self,name,ID,dept):\n",
        "    self.name = name\n",
        "    self.ID = ID\n",
        "    self.dept = dept\n",
        "    self.courseList = []\n",
        "    print(f\"{self.name} has been created.\")\n",
        "  def printDetails(self):\n",
        "    print(f\"Name:{self.name}\")\n",
        "    print(f\"ID:{self.ID}\")\n",
        "    print(f\"Department:{self.dept}\")\n",
        "    print(f\"{self.name} has taken {len(self.courseList)} course(s).\")\n",
        "    print(\"The courses are:\")\n",
        "    for i in self.courseList:\n",
        "      print(i)\n",
        "  def addCourse(self,*args): #Using *args as we don't know the exact number of arguments that will be passed\n",
        "    for i in args:\n",
        "      self.courseList.append(i)\n",
        "  #Alternate approach\n",
        "    #self.courseList.append(list(args))\n",
        "\n",
        "\n",
        "s1 = Student(\"Bob\",18301120,\"CSE\")\n",
        "print(\"1.---------------------------------------\")\n",
        "s2 = Student(\"Alice\",19023103,\"CS\")\n",
        "print(\"2.---------------------------------------\")\n",
        "s1.addCourse(\"CSE111\",\"PHY111\",\"MAT110\")\n",
        "#If we want to set tough question\n",
        "#s1.addCourse(\"CSE111\",4.0,\"PHY111\",3.3,\"MAT110\",3.7) #Calculate GPA\n",
        "#s1.addCourse(\"CSE111\",93.5,\"PHY111\",78.0,\"MAT110\",86.2)#Calculate GPA\n",
        "print(\"3.---------------------------------------\")\n",
        "s2.addCourse(\"CSE111\",\"MAT120\",\"CSE260\",\"PHY112\")\n",
        "#If we want to set tough question\n",
        "#s2.addCourse(\"CSE111\",3.7,\"MAT120\",4.0,\"CSE260\",3.3,\"PHY112\",4.0) #Calculate GPA\n",
        "#s2.addCourse(\"CSE111\",88.3,\"MAT120\",95.1,\"CSE260\",77.5,\"PHY112\",94.3) #Calculate GPA\n",
        "print(\"4.---------------------------------------\")\n",
        "s1.printDetails()\n",
        "print(\"5.---------------------------------------\")\n",
        "s2.printDetails()\n"
      ],
      "metadata": {
        "colab": {
          "base_uri": "https://localhost:8080/"
        },
        "id": "Gb-MVIlWLuAU",
        "outputId": "acf9deba-2099-4808-b334-926e624dedf3"
      },
      "execution_count": null,
      "outputs": [
        {
          "output_type": "stream",
          "name": "stdout",
          "text": [
            "Bob has been created.\n",
            "1.---------------------------------------\n",
            "Alice has been created.\n",
            "2.---------------------------------------\n",
            "3.---------------------------------------\n",
            "4.---------------------------------------\n",
            "Name:Bob\n",
            "ID:18301120\n",
            "Department:CSE\n",
            "Bob has taken 3 course(s).\n",
            "The courses are:\n",
            "CSE111\n",
            "PHY111\n",
            "MAT110\n",
            "5.---------------------------------------\n",
            "Name:Alice\n",
            "ID:19023103\n",
            "Department:CS\n",
            "Alice has taken 4 course(s).\n",
            "The courses are:\n",
            "CSE111\n",
            "MAT120\n",
            "CSE260\n",
            "PHY112\n"
          ]
        }
      ]
    },
    {
      "cell_type": "code",
      "source": [],
      "metadata": {
        "id": "Pr2l5RHRolgf"
      },
      "execution_count": null,
      "outputs": []
    },
    {
      "cell_type": "code",
      "source": [
        "#OOP Class 5\n",
        "#Practice 1\n",
        "class Course:\n",
        "  def __init__(self,title,code):\n",
        "    self.title = title\n",
        "    self.code = code\n",
        "class Teacher:\n",
        "  def __init__(self,name,des):\n",
        "    self.name = name\n",
        "    self.des = des\n",
        "    self.cList = []\n",
        "  def addCourse(self,*args):\n",
        "    for i in args:\n",
        "      self.cList.append(i)\n",
        "  def printDetails(self):\n",
        "    print(f\"Name:{self.name}\")\n",
        "    print(f\"Designation:{self.des}\")\n",
        "    for i in self.cList:\n",
        "      print(f\"{i.code} - {i.title}\")\n",
        "\n",
        "c1 = Course(\"Programming Language I\",\"CSE110\")\n",
        "c2 = Course(\"Programming Language II\",\"CSE111\")\n",
        "c3 = Course(\"Digital Logic Design\",\"CSE260\")\n",
        "c4 = Course(\"Discrete Mathematics\",\"CSE230\")\n",
        "c5 = Course(\"Data Structure\",\"CSE220\")\n",
        "t1 = Teacher(\"Alice\",\"Lecturer\")\n",
        "t2 = Teacher(\"Bob\",\"Assistant Prof\")\n",
        "t1.addCourse(c1,c2)\n",
        "print(\"-------------------------------\")\n",
        "t1.printDetails()\n",
        "print(\"-------------------------------\")\n",
        "t2.addCourse(c4,c5,c3)\n",
        "print(\"-------------------------------\")\n",
        "t2.printDetails()"
      ],
      "metadata": {
        "colab": {
          "base_uri": "https://localhost:8080/"
        },
        "id": "36TFqUOG5TQP",
        "outputId": "fab50a37-0b0b-44c2-9c46-eb56efd368a1"
      },
      "execution_count": null,
      "outputs": [
        {
          "output_type": "stream",
          "name": "stdout",
          "text": [
            "-------------------------------\n",
            "Name:Alice\n",
            "Designation:Lecturer\n",
            "CSE110 - Programming Language I\n",
            "CSE111 - Programming Language II\n",
            "-------------------------------\n",
            "-------------------------------\n",
            "Name:Bob\n",
            "Designation:Assistant Prof\n",
            "CSE230 - Discrete Mathematics\n",
            "CSE220 - Data Structure\n",
            "CSE260 - Digital Logic Design\n"
          ]
        }
      ]
    },
    {
      "cell_type": "code",
      "source": [
        "#OOP Class 5\n",
        "#Practice 2\n",
        "class Library:\n",
        "  def __init__(self,name):\n",
        "    self.name = name\n",
        "    self.bookCount=0\n",
        "    self.bookList = {} #{\"Programming\":[Teach Yourself C,Teach Yourself C++]}\n",
        "  def addBook(self,*args):#(COM)\n",
        "    for i in args:\n",
        "      self.bookCount+=1\n",
        "      if i.cat not in self.bookList:\n",
        "        self.bookList[i.cat] =[i.name]\n",
        "      else:\n",
        "        self.bookList[i.cat].append(i.name)\n",
        "  def printDetails(self):\n",
        "    print(f\"Name:{self.name}\")\n",
        "    print(f\"Number of books:{self.bookCount}\")\n",
        "    for k,v in self.bookList.items():\n",
        "      print(f\"{k} : {','.join(v)}\")\n",
        "class Book:\n",
        "  def __init__(self,name,cat):\n",
        "    self.name = name\n",
        "    self.cat = cat\n",
        "\n",
        "\n",
        "    \n",
        "l1 = Library(\"AYESHA ABED Library\") #DHK\n",
        "b1 = Book(\"Teach Yourself C\",\"Programming\") #RAJ\n",
        "b2 = Book(\"Teach Yourself C++\",\"Programming\")#COM\n",
        "b3 = Book(\"Angels and Demons\",\"Fiction\")#NOA\n",
        "b4 = Book (\"Discrete Mathematics\",\"Mathematics\")#SYL\n",
        "b5 = Book (\"Calculus\",\"Mathematics\")#CTG\n",
        "l1.addBook(b1)\n",
        "l1.addBook(b2)\n",
        "l1.addBook(b3,b4,b5)\n",
        "print(\"-------------------------------\")\n",
        "l1.printDetails()"
      ],
      "metadata": {
        "colab": {
          "base_uri": "https://localhost:8080/"
        },
        "id": "JTUhugqV-2ii",
        "outputId": "072fc055-2bbb-49c7-dca1-e79034326869"
      },
      "execution_count": null,
      "outputs": [
        {
          "output_type": "stream",
          "name": "stdout",
          "text": [
            "-------------------------------\n",
            "Name:AYESHA ABED Library\n",
            "Number of books:5\n",
            "Programming : Teach Yourself C,Teach Yourself C++\n",
            "Fiction : Angels and Demons\n",
            "Mathematics : Discrete Mathematics,Calculus\n"
          ]
        }
      ]
    },
    {
      "cell_type": "code",
      "source": [],
      "metadata": {
        "id": "vcFvGB5H_t8I"
      },
      "execution_count": null,
      "outputs": []
    },
    {
      "cell_type": "code",
      "source": [],
      "metadata": {
        "id": "Wyz4rrQrIEfO",
        "colab": {
          "base_uri": "https://localhost:8080/"
        },
        "outputId": "5e251bb4-fe13-406d-a280-0fd4f27d0c54"
      },
      "execution_count": null,
      "outputs": [
        {
          "output_type": "stream",
          "name": "stdout",
          "text": [
            "-------------------------------\n",
            "Name:Alice\n",
            "Designation:Lecturer\n",
            "CSE110 - Programming Language I\n",
            "CSE111 - Programming Language II\n",
            "-------------------------------\n",
            "-------------------------------\n",
            "Name:Bob\n",
            "Designation:Assistant Prof\n",
            "CSE230 - Discrete Mathematics\n",
            "CSE220 - Data Structure\n",
            "CSE260 - Digital Logic Design\n"
          ]
        }
      ]
    }
  ]
}