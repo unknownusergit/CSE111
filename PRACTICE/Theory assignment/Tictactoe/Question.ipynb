{
 "cells": [
  {
   "cell_type": "code",
   "execution_count": null,
   "id": "faee6bb1",
   "metadata": {
    "id": "faee6bb1"
   },
   "outputs": [],
   "source": [
    "table = ['-', '-', '-', '-','-', '-', '-', '-','-',]\n",
    "\n",
    "def start():\n",
    "    print('|'+table[0]+'|'+table[1]+'|'+table[2]+'|')\n",
    "    print('|'+table[3]+'|'+table[4]+'|'+table[5]+'|')\n",
    "    print('|'+table[6]+'|'+table[7]+'|'+table[8]+'|')\n",
    "\n",
    "def checkBoard(table):\n",
    "    num1 = 'X'\n",
    "    num2 = 'O'\n",
    "    if table[0] == table[1] == table[2] == num1 or table[0] == table[1] == table[2] == num2:\n",
    "        return True\n",
    "    if table[3] == table[4] == table[5] == num1 or table[3] == table[4] == table[5] == num2:\n",
    "        return True\n",
    "    if table[6] == table[7] == table[8] == num1 or table[6] == table[7] == table[8] == num2:\n",
    "        return True\n",
    "    if table[1] == table[4] == table[7] == num1 or table[1] == table[4] == table[7] == num2:\n",
    "        return True\n",
    "    if table[2] == table[5] == table[8] == num1 or table[2] == table[5] == table[8] == num2:\n",
    "        return True\n",
    "    if table[3] == table[0] == table[6] == num1 or table[3] == table[0] == table[6] == num2:\n",
    "        return True\n",
    "    else:\n",
    "        return False\n",
    "    \n",
    "def placeCharacter(table): \n",
    "    u = int(input('Please enter your placement: '))\n",
    "    if table[u-1]!='-':\n",
    "        print('Your answer already exist, please enter a new answer: ')\n",
    "        return placeCharacter(table)\n",
    "    else:\n",
    "        return u\n",
    "        \n",
    "        \n",
    "player1 = input(\"Enter player 1's name:\")\n",
    "player2 = input(\"Enter player 2's name:\")\n",
    "for a in range(9):\n",
    "    if a%2 == 0:\n",
    "        u = placeCharacter(table)\n",
    "        table[u-1] = 'X'\n",
    "        if checkBoard(table):\n",
    "            print('Player1 won the game')\n",
    "            break\n",
    "    else:\n",
    "        u = placeCharacter(table)\n",
    "        table[u-1] = 'O'\n",
    "        if checkBoard(table):\n",
    "            print('Player2 won the game')\n",
    "            break\n",
    "print('Game Over')\n",
    "        "
   ]
  }
 ],
 "metadata": {
  "colab": {
   "provenance": []
  },
  "kernelspec": {
   "display_name": "Python 3 (ipykernel)",
   "language": "python",
   "name": "python3"
  },
  "language_info": {
   "codemirror_mode": {
    "name": "ipython",
    "version": 3
   },
   "file_extension": ".py",
   "mimetype": "text/x-python",
   "name": "python",
   "nbconvert_exporter": "python",
   "pygments_lexer": "ipython3",
   "version": "3.9.7"
  }
 },
 "nbformat": 4,
 "nbformat_minor": 5
}
