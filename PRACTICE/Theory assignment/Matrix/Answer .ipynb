{
  "cells": [
    {
      "cell_type": "code",
      "execution_count": null,
      "id": "578dacdf",
      "metadata": {
        "id": "578dacdf",
        "outputId": "f9fbc783-3139-472e-bbe3-a31e4752f6ec"
      },
      "outputs": [
        {
          "name": "stdout",
          "output_type": "stream",
          "text": [
            "row: 2\n",
            "col: 2\n",
            "Please enter the elements for matrix 1: \n",
            "1\n",
            "2\n",
            "3\n",
            "4\n",
            "Your first matrix: \n",
            "1   2   \n",
            "3   4   \n",
            "Please enter the elements for matrix 2: \n",
            "1\n",
            "2\n",
            "3\n",
            "4\n",
            "Your second matrix: \n",
            "1   2   \n",
            "3   4   \n",
            "resultant matrix: \n",
            "2   4   \n",
            "6   8   \n"
          ]
        }
      ],
      "source": [
        "### Addition\n",
        "\n",
        "r = int(input('row: '))\n",
        "c = int(input('col: '))\n",
        "print('Please enter the elements for matrix 1: ')\n",
        "mat1 = [[int(input()) for i in range (c)] for j in range (r)]\n",
        "print('Your first matrix: ')\n",
        "for i in range(r):\n",
        "    for j in range(c):\n",
        "        print(format(mat1[i][j], '<4'), end = '')\n",
        "    print()\n",
        "    \n",
        "print('Please enter the elements for matrix 2: ')\n",
        "mat2 = [[int(input()) for i in range (c)] for j in range (r)]\n",
        "print('Your second matrix: ')\n",
        "for i in range(r):\n",
        "    for j in range(c):\n",
        "        print(format(mat2[i][j], '<4'), end = '')\n",
        "    print()\n",
        "\n",
        "result = [[0 for i in range (c)] for j in range (r)]\n",
        "for i in range(r):\n",
        "    for j in range(c):\n",
        "        result[i][j] = mat1[i][j] + mat2[i][j]\n",
        "        \n",
        "print('resultant matrix: ')\n",
        "for i in range (r):\n",
        "    for j in range(c):\n",
        "        print(format(result[i][j], '<3'), end=' ')\n",
        "    print()"
      ]
    },
    {
      "cell_type": "code",
      "execution_count": null,
      "id": "2ce2b170",
      "metadata": {
        "id": "2ce2b170",
        "outputId": "a95183a0-0977-4deb-9017-8a5a5de8eebd"
      },
      "outputs": [
        {
          "name": "stdout",
          "output_type": "stream",
          "text": [
            "row: 2\n",
            "col: 2\n",
            "Please enter the elements for matrix 1: \n",
            "3\n",
            "3\n",
            "3\n",
            "3\n",
            "Your first matrix: \n",
            "3   3   \n",
            "3   3   \n",
            "Please enter the elements for matrix 2: \n",
            "1\n",
            "1\n",
            "1\n",
            "1\n",
            "Your second matrix: \n",
            "1   1   \n",
            "1   1   \n",
            "resultant matrix: \n",
            "2   2   \n",
            "2   2   \n"
          ]
        }
      ],
      "source": [
        "### Substraction\n",
        "\n",
        "r = int(input('row: '))\n",
        "c = int(input('col: '))\n",
        "print('Please enter the elements for matrix 1: ')\n",
        "mat1 = [[int(input()) for i in range (c)] for j in range (r)]\n",
        "print('Your first matrix: ')\n",
        "for i in range(r):\n",
        "    for j in range(c):\n",
        "        print(format(mat1[i][j], '<4'), end = '')\n",
        "    print()\n",
        "    \n",
        "print('Please enter the elements for matrix 2: ')\n",
        "mat2 = [[int(input()) for i in range (c)] for j in range (r)]\n",
        "print('Your second matrix: ')\n",
        "for i in range(r):\n",
        "    for j in range(c):\n",
        "        print(format(mat2[i][j], '<4'), end = '')\n",
        "    print()\n",
        "\n",
        "result = [[0 for i in range (c)] for j in range (r)]\n",
        "for i in range(r):\n",
        "    for j in range(c):\n",
        "        result[i][j] = mat1[i][j] - mat2[i][j]\n",
        "        \n",
        "print('resultant matrix: ')\n",
        "for i in range (r):\n",
        "    for j in range(c):\n",
        "        print(format(result[i][j], '<3'), end=' ')\n",
        "    print()"
      ]
    },
    {
      "cell_type": "code",
      "execution_count": null,
      "id": "6348dd4b",
      "metadata": {
        "id": "6348dd4b",
        "outputId": "e3df894b-4e8a-45a4-bc61-66d806eefc1c"
      },
      "outputs": [
        {
          "name": "stdout",
          "output_type": "stream",
          "text": [
            "Enter the row number for your first matrix: 2\n",
            "Enter the column number for your second matrix: 2\n",
            "Enter the column number for your first matrix/ and row number for your second matrix: 2\n",
            "Enter your first matrix elements: \n",
            "1\n",
            "2\n",
            "3\n",
            "4\n",
            "Your first matrix: \n",
            "1   2   \n",
            "3   4   \n",
            "Enter your second matrix elements: \n",
            "1\n",
            "2\n",
            "3\n",
            "4\n",
            "Your second matrix: \n",
            "1   2   \n",
            "3   4   \n",
            "resultant matrix: \n",
            "7    10   \n",
            "15   22   \n"
          ]
        }
      ],
      "source": [
        "### Multiplication\n",
        "\n",
        "a = int(input('Enter the row number for your first matrix: '))\n",
        "b = int(input('Enter the column number for your second matrix: '))\n",
        "x = int(input('Enter the column number for your first matrix/ and row number for your second matrix: '))\n",
        "\n",
        "print('Enter your first matrix elements: ')\n",
        "mat1 = [[int(input()) for i in range (x)] for j in range (a)]\n",
        "print('Your first matrix: ')\n",
        "for i in range(a):\n",
        "    for j in range(x):\n",
        "        print(format(mat1[i][j], '<4'), end = '')\n",
        "    print()\n",
        "    \n",
        "print('Enter your second matrix elements: ')\n",
        "mat2 = [[int(input()) for i in range (b)] for j in range (x)]\n",
        "print('Your second matrix: ')\n",
        "for i in range(x):\n",
        "    for j in range(b):\n",
        "        print(format(mat2[i][j], '<4'), end = '')\n",
        "    print()\n",
        "\n",
        "sol = [[0 for i in range (b)] for j in range (a)]\n",
        "\n",
        "for i in range(a):\n",
        "    for j in range(b):\n",
        "        for c in range(x):\n",
        "            sol[i][j] = sol[i][j] + mat1[i][c] * mat2[c][j]\n",
        "        \n",
        "print('resultant matrix: ')\n",
        "for i in range (a):\n",
        "    for j in range(b):\n",
        "        print(format(sol[i][j],'<5'),end='')\n",
        "    print()\n",
        "    "
      ]
    },
    {
      "cell_type": "code",
      "execution_count": null,
      "id": "1cccbeaa",
      "metadata": {
        "id": "1cccbeaa",
        "outputId": "975ca3b2-b6ee-4af3-909b-9fa9f8a2dd85"
      },
      "outputs": [
        {
          "name": "stdout",
          "output_type": "stream",
          "text": [
            "row: 2\n",
            "col: 2\n",
            "Enter your first matrix elements: \n",
            "1\n",
            "2\n",
            "3\n",
            "4\n",
            "Your first matrix: \n",
            "1    2    \n",
            "3    4    \n",
            "resultant matrix\n",
            "1    3    \n",
            "2    4    \n"
          ]
        }
      ],
      "source": [
        "### Transpose\n",
        "\n",
        "r = int(input('row: '))\n",
        "c = int(input('col: '))\n",
        "\n",
        "print('Enter your first matrix elements: ')\n",
        "mat1 = [[int(input()) for x in range (r)] for y in range (c)]\n",
        "print('Your first matrix: ')\n",
        "for x in range(r):\n",
        "    for y in range(c):\n",
        "        print(format(mat1[x][y], '<5'), end='')\n",
        "    print()\n",
        "\n",
        "count = [[0 for x in range (r)] for j in range (c)]\n",
        "for x in range(r):\n",
        "    for y in range(c):\n",
        "        count[x][y] = mat1[y][x]\n",
        "\n",
        "print('resultant matrix')\n",
        "for x in range(c):\n",
        "    for y in range(r):\n",
        "        print(format(count[x][y], '<5'), end='')\n",
        "    print()"
      ]
    },
    {
      "cell_type": "markdown",
      "id": "c715ba70",
      "metadata": {
        "id": "c715ba70"
      },
      "source": [
        "#### "
      ]
    }
  ],
  "metadata": {
    "kernelspec": {
      "display_name": "Python 3 (ipykernel)",
      "language": "python",
      "name": "python3"
    },
    "language_info": {
      "codemirror_mode": {
        "name": "ipython",
        "version": 3
      },
      "file_extension": ".py",
      "mimetype": "text/x-python",
      "name": "python",
      "nbconvert_exporter": "python",
      "pygments_lexer": "ipython3",
      "version": "3.9.7"
    },
    "colab": {
      "provenance": []
    }
  },
  "nbformat": 4,
  "nbformat_minor": 5
}