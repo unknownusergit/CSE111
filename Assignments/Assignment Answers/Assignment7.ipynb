{
  "nbformat": 4,
  "nbformat_minor": 0,
  "metadata": {
    "colab": {
      "provenance": []
    },
    "kernelspec": {
      "name": "python3",
      "display_name": "Python 3"
    },
    "language_info": {
      "name": "python"
    }
  },
  "cells": [
    {
      "cell_type": "code",
      "source": [
        "#Task1\n",
        "class Student:\n",
        "    def __init__(self, name='Just a student', dept='nothing'):\n",
        "        self.__name = name\n",
        "        self.__department = dept\n",
        "    def set_department(self, dept):\n",
        "        self.__department = dept\n",
        "    def get_name(self):\n",
        "        return self.__name\n",
        "    def set_name(self,name):\n",
        "        self.__name = name\n",
        "    def __str__(self):\n",
        "        return 'Name: '+self.__name+' Department: '+self.__department\n",
        "class BBA_Student(Student):\n",
        "  def __init__(self, name= 'default', department = 'BBA'):\n",
        "    super().__init__(name, department)\n",
        "\n",
        "print(BBA_Student())\n",
        "print(BBA_Student('Humpty Dumpty'))\n",
        "print(BBA_Student('Little Bo Peep'))"
      ],
      "metadata": {
        "colab": {
          "base_uri": "https://localhost:8080/"
        },
        "id": "SQIS-HSYIpB8",
        "outputId": "2c9c69f4-b3dd-4c7a-8ed2-6886730430ca"
      },
      "execution_count": null,
      "outputs": [
        {
          "output_type": "stream",
          "name": "stdout",
          "text": [
            "Name: default Department: BBA\n",
            "Name: Humpty Dumpty Department: BBA\n",
            "Name: Little Bo Peep Department: BBA\n"
          ]
        }
      ]
    },
    {
      "cell_type": "code",
      "source": [
        "#Task2\n",
        "class Vehicle:\n",
        "    def __init__(self):\n",
        "        self.x = 0\n",
        "        self.y = 0\n",
        "    def moveUp(self):\n",
        "        self.y+=1\n",
        "    def moveDown(self):\n",
        "        self.y-=1\n",
        "    def moveRight(self):\n",
        "        self.x+=1\n",
        "    def moveLeft(self):\n",
        "        self.x-=1\n",
        "    def __str__(self):\n",
        "        return '('+str(self.x)+' , '+str(self.y)+')'\n",
        "\n",
        "class Vehicle2010(Vehicle):\n",
        "    def equals(self,other):\n",
        "        if self.y==other.y and self.x==other.x:\n",
        "            return True\n",
        "        else :\n",
        "            return False\n",
        "    def moveLowerLeft(self):\n",
        "        Vehicle.moveLeft(self)\n",
        "        Vehicle.moveDown(self)\n",
        "    def moveUpperLeft(self):\n",
        "        Vehicle.moveLeft(self)\n",
        "        Vehicle.moveUp(self)\n",
        "    def moveLowerRight(self):\n",
        "        Vehicle.moveright(self)\n",
        "        Vehicle.moveDown(self)\n",
        "    def moveUpperRight(self):\n",
        "        Vehicle.moveRight(self)\n",
        "        Vehicle.moveUp(self)\n",
        "        \n",
        "print('Part 1')\n",
        "print('------')\n",
        "car = Vehicle()\n",
        "print(car)\n",
        "car.moveUp()\n",
        "print(car)\n",
        "car.moveLeft()\n",
        "print(car)\n",
        "car.moveDown()\n",
        "print(car)\n",
        "car.moveRight()\n",
        "print(car)\n",
        "print('------')\n",
        "print('Part 2')\n",
        "print('------')\n",
        "car1 = Vehicle2010()\n",
        "print(car1)\n",
        "car1.moveLowerLeft()\n",
        "print(car1)\n",
        "car2 = Vehicle2010()\n",
        "car2.moveLeft()\n",
        "print(car1.equals(car2))\n",
        "car2.moveDown()\n",
        "print(car1.equals(car2))"
      ],
      "metadata": {
        "colab": {
          "base_uri": "https://localhost:8080/"
        },
        "id": "ll9qi7BVFXiF",
        "outputId": "c818c253-26f4-402c-a5d4-c5bcbb50c71b"
      },
      "execution_count": null,
      "outputs": [
        {
          "output_type": "stream",
          "name": "stdout",
          "text": [
            "Part 1\n",
            "------\n",
            "(0 , 0)\n",
            "(0 , 1)\n",
            "(-1 , 1)\n",
            "(-1 , 0)\n",
            "(0 , 0)\n",
            "------\n",
            "Part 2\n",
            "------\n",
            "(0 , 0)\n",
            "(-1 , -1)\n",
            "False\n",
            "True\n"
          ]
        }
      ]
    },
    {
      "cell_type": "code",
      "source": [
        "#Task3\n",
        "class Tournament:\n",
        "    def __init__(self,name='Default'):\n",
        "        self.__name = name\n",
        "    def set_name(self,name):\n",
        "        self.__name = name\n",
        "    def get_name(self):\n",
        "        return self.__name\n",
        "class  Cricket_Tournament(Tournament):\n",
        "    def __init__(self,name='Default',num=0,type='No Type'):\n",
        "        self.name=name\n",
        "        self.num=num\n",
        "        self.type=type\n",
        "    def detail(self):\n",
        "        print('Cricket Tournament Name: '+self.name)\n",
        "        print('Number of Teams:',self.num)\n",
        "        return('Type: '+self.type)\n",
        "class Tennis_Tournament(Tournament):\n",
        "    def __init__(self,name='Default',num=0):\n",
        "        self.name=name\n",
        "        self.num=num\n",
        "    def detail(self):\n",
        "        print('Cricket Tournament Name:',self.name)\n",
        "        return('Number of Teams: '+str(self.num))\n",
        "\n",
        "ct1 = Cricket_Tournament()\n",
        "print(ct1.detail())\n",
        "print(\"-----------------------\")\n",
        "ct2 = Cricket_Tournament(\"IPL\",10,\"t20\")\n",
        "print(ct2.detail())\n",
        "print(\"-----------------------\")\n",
        "tt = Tennis_Tournament(\"Roland Garros\",128)\n",
        "print(tt.detail())"
      ],
      "metadata": {
        "colab": {
          "base_uri": "https://localhost:8080/"
        },
        "id": "axEpIOoyFxP7",
        "outputId": "2b737ab0-1c67-438b-8941-cea2f9b102a8"
      },
      "execution_count": null,
      "outputs": [
        {
          "output_type": "stream",
          "name": "stdout",
          "text": [
            "Cricket Tournament Name: Default\n",
            "Number of Teams: 0\n",
            "Type: No Type\n",
            "-----------------------\n",
            "Cricket Tournament Name: IPL\n",
            "Number of Teams: 10\n",
            "Type: t20\n",
            "-----------------------\n",
            "Cricket Tournament Name: Roland Garros\n",
            "Number of Teams: 128\n"
          ]
        }
      ]
    },
    {
      "cell_type": "code",
      "source": [
        "#task4\n",
        "class Product: \n",
        "    def __init__(self,id, title, price): \n",
        "        self.__id = id \n",
        "        self. __title = title \n",
        "        self. __price = price \n",
        "    def get_id_title_price(self): \n",
        "        return \"ID: \"+str(self.__id)+\" Title:\"+self.__title+ \"Price: \"+str(self.__price)\n",
        "    \n",
        "class Book (Product):\n",
        "    def __init__(self,id, title, price,serial,publisher):\n",
        "        super().__init__(id, title, price)\n",
        "        self.serial=serial\n",
        "        self.publisher=publisher\n",
        "        \n",
        "    def printDetail(self):\n",
        "        return super().get_id_title_price() + \" ISBN: \" + self.serial + \" Publisher: \" + self.publisher\n",
        "\n",
        "class CD(Product):\n",
        "    def __init__(self,id, title, price,band,duration,genre):\n",
        "        super().__init__(id, title, price)\n",
        "        self.band=band\n",
        "        self.duration=duration\n",
        "        self.genre=genre\n",
        "        \n",
        "    def printDetail(self):\n",
        "        return super().get_id_title_price() + \" Band: \" + self.band + \" Duration: \" + str(self.duration) +\"minutes\" + \" Genre: \" + self.genre\n",
        "\n",
        "book = Book(1,\"The Alchemist\",500,\"97806\",\"HarperCollins\")\n",
        "print(book.printDetail())\n",
        "print(\"-----------------------\")\n",
        "cd = CD(2,\"Shotto\",300,\"Warfaze\",50,\"Hard Rock\")\n",
        "print(cd.printDetail())"
      ],
      "metadata": {
        "colab": {
          "base_uri": "https://localhost:8080/"
        },
        "id": "d_YyLFDqG_Ei",
        "outputId": "cb824d5c-f406-4a04-afdf-4d909b5072d5"
      },
      "execution_count": null,
      "outputs": [
        {
          "output_type": "stream",
          "name": "stdout",
          "text": [
            "ID: 1 Title:The AlchemistPrice: 500 ISBN: 97806 Publisher: HarperCollins\n",
            "-----------------------\n",
            "ID: 2 Title:ShottoPrice: 300 Band: Warfaze Duration: 50minutes Genre: Hard Rock\n"
          ]
        }
      ]
    },
    {
      "cell_type": "code",
      "source": [
        "#Task5\n",
        "class Animal:   \n",
        "    def __init__(self,sound):\n",
        "        self.__sound = sound\n",
        "        \n",
        "    def makeSound(self):\n",
        "        return self.__sound\n",
        "        \n",
        "\n",
        "class Printer:   \n",
        "    def printSound(self, a):\n",
        "        print(a.makeSound())\n",
        "\n",
        "class Dog(Animal):\n",
        "  pass\n",
        "\n",
        "class Cat(Animal):\n",
        "  pass\n",
        "\n",
        "d1 = Dog('bark')\n",
        "c1 = Cat('meow')\n",
        "a1 = Animal('Animal does not make sound')\n",
        "pr = Printer()\n",
        "pr.printSound(a1)\n",
        "pr.printSound(c1)\n",
        "pr.printSound(d1)        "
      ],
      "metadata": {
        "colab": {
          "base_uri": "https://localhost:8080/"
        },
        "id": "W9_2YMIfGnwz",
        "outputId": "86287411-8d7f-45f3-ef9b-956ef020806f"
      },
      "execution_count": null,
      "outputs": [
        {
          "output_type": "stream",
          "name": "stdout",
          "text": [
            "Animal does not make sound\n",
            "meow\n",
            "bark\n"
          ]
        }
      ]
    },
    {
      "cell_type": "code",
      "source": [
        "#Task6\n",
        "class Shape:\n",
        "\n",
        "  def __init__(self, name= 'Default', height=0, base=0):\n",
        "    self.area = 0\n",
        "    self.name = name\n",
        "    self.height = height\n",
        "    self.base = base\n",
        "\n",
        "  def get_height_base(self):\n",
        "    return \"Height: \"+str(self.height)+\",Base: \"+str(self.base)\n",
        "    \n",
        "class triangle (Shape):\n",
        "  def __init__(self, name=\"Default\", height=0, base=0):\n",
        "    super().__init__(name, height,base)\n",
        "    self.area=1\n",
        "  def calcArea(self):\n",
        "    self.area = 1/2 *self.height * self.base\n",
        "    return self.area\n",
        "  def printDetail(self):\n",
        "    return f\"Shape name:{self.name}\\n{super().get_height_base()},\\nArea:{self.area}\"\n",
        "\n",
        "class trapezoid (Shape):\n",
        "  def __init__(self, name=\"Default\", height=0, base=0, side=0):\n",
        "    super().__init__(name, height, base)\n",
        "    self.side = side\n",
        "  def calcArea(self):\n",
        "    self.area = ((self.base + self.side)/2)*self.height\n",
        "  def printDetail(self):\n",
        "    return f\"Shape name:{self.name}\\n{super().get_height_base()},Side_A:{self.side}\\nArea:{self.area}\"\n",
        "\n",
        "tri_default = triangle()\n",
        "tri_default.calcArea()\n",
        "print(tri_default.printDetail())\n",
        "print('--------------------------')\n",
        "tri = triangle('Triangle', 10, 5)\n",
        "tri.calcArea()\n",
        "print(tri.printDetail())\n",
        "print('---------------------------')\n",
        "trap = trapezoid('Trapezoid', 10, 6, 4)\n",
        "trap.calcArea()\n",
        "print(trap.printDetail())\n"
      ],
      "metadata": {
        "colab": {
          "base_uri": "https://localhost:8080/"
        },
        "id": "YLOEpzqcHUkL",
        "outputId": "f78109e4-31a2-42cc-99d9-c194b761023e"
      },
      "execution_count": null,
      "outputs": [
        {
          "output_type": "stream",
          "name": "stdout",
          "text": [
            "Shape name:Default\n",
            "Height: 0,Base: 0,\n",
            "Area:0.0\n",
            "--------------------------\n",
            "Shape name:Triangle\n",
            "Height: 10,Base: 5,\n",
            "Area:25.0\n",
            "---------------------------\n",
            "Shape name:Trapezoid\n",
            "Height: 10,Base: 6,Side_A:4\n",
            "Area:50.0\n"
          ]
        }
      ]
    },
    {
      "cell_type": "code",
      "source": [
        "#task7\n",
        "class Football: \n",
        "    def __init__(self, team_name, name, role): \n",
        "        self.__team = team_name \n",
        "        self.__name = name \n",
        "        self.role = role \n",
        "        self.earning_per_match = 0 \n",
        "    def get_name_team(self): \n",
        "        return 'Name: '+self.__name+', Team Name: ' +self.__team\n",
        "\n",
        "class Player ( Football):\n",
        "    def __init__(self, team_name, name, role,goal,total_played):\n",
        "        super().__init__(team_name, name, role)\n",
        "        self.goal=goal\n",
        "        self.total_played=total_played\n",
        "        self.goal_ratio=0\n",
        "        self.earning=(self.goal * 1000) + (self.total_played * 10)\n",
        "    \n",
        "    def  calculate_ratio(self):\n",
        "        self.goal_ratio=self.goal/self.total_played\n",
        "        return self.goal_ratio\n",
        "        \n",
        "    def print_details(self):\n",
        "        print(\"Name: \",super().get_name_team()) \n",
        "        print(\"Role: \",self.role)\n",
        "        print(\"Total Goal: \",self.goal)\n",
        "        print(\"Total Played: \",self.total_played)\n",
        "        print(\"Goal Ratio: \",self.goal_ratio)\n",
        "        print(\"Match Earning: \",self.earning, \"k\")\n",
        "        \n",
        "class Manager (Football):\n",
        "    def __init__(self, team_name, name, role,total_win):\n",
        "        super().__init__( team_name, name, role)\n",
        "        self.total_win=total_win\n",
        "        self.earning=total_win* 1000\n",
        "    \n",
        "    \n",
        "    def print_details(self):\n",
        "        print(\"Name: \",super().get_name_team())\n",
        "        print(\"Role: \",self.role)\n",
        "        print(\"Total Win: \",self.total_win)\n",
        "        print(\"Match Earning: \",self.earning, \"k\")\n",
        "        \n",
        "    \n",
        "        \n",
        "player_one = Player('Juventus', 'Ronaldo', 'Striker', 25, 32)\n",
        "player_one.calculate_ratio() \n",
        "player_one.print_details() \n",
        "print('------------------------------------------')\n",
        "manager_one = Manager('Real Madrid', 'Zidane', 'Manager', 25)\n",
        "manager_one.print_details()"
      ],
      "metadata": {
        "colab": {
          "base_uri": "https://localhost:8080/"
        },
        "id": "dB7GdqR5Hm85",
        "outputId": "d5163b5c-b47f-4a79-9689-ddb88793c964"
      },
      "execution_count": null,
      "outputs": [
        {
          "output_type": "stream",
          "name": "stdout",
          "text": [
            "Name:  Name: Ronaldo, Team Name: Juventus\n",
            "Role:  Striker\n",
            "Total Goal:  25\n",
            "Total Played:  32\n",
            "Goal Ratio:  0.78125\n",
            "Match Earning:  25320 k\n",
            "------------------------------------------\n",
            "Name:  Name: Zidane, Team Name: Real Madrid\n",
            "Role:  Manager\n",
            "Total Win:  25\n",
            "Match Earning:  25000 k\n"
          ]
        }
      ]
    }
  ]
}