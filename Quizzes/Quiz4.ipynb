{
  "cells": [
    {
      "cell_type": "code",
      "execution_count": null,
      "id": "1c2bf7ca",
      "metadata": {
        "id": "1c2bf7ca"
      },
      "outputs": [],
      "source": [
        "def ascii_string(a,b,c,d,e,f):\n",
        "    stringlist = [a,b,c,d,e,f]\n",
        "    asciisum = 0\n",
        "    dic = {}\n",
        "    keys = []\n",
        "    for string in stringlist:\n",
        "        for index in range(1, len(string)-1):\n",
        "            asciisum += ord(string[index]) \n",
        "            keys.append(asciisum)\n",
        "            dic[index] = stringlist[index]\n",
        "            index += 2\n",
        "    return dic"
      ]
    },
    {
      "cell_type": "code",
      "source": [
        "fruit_list= { 'orange': (8,7,12) , 'coconut': (10,20,30), 'dragonfruit': (6,12,14)} \n",
        "num = int(input('Please enter an integer number: '))\n",
        "keylist = list(fruit_list.keys())\n",
        "vallist = list(fruit_list.values())\n",
        "print(vallist)\n",
        "numkey = vallist.index(num)\n",
        "print(keylist[numkey])\n",
        "for value in  fruit_list.values():\n",
        "    if (value==num):\n",
        "        print('yes')\n",
        "        break\n",
        "    else:\n",
        "        print('no')\n",
        "        break"
      ],
      "metadata": {
        "id": "hg_C0CwTVqjO"
      },
      "id": "hg_C0CwTVqjO",
      "execution_count": null,
      "outputs": []
    },
    {
      "cell_type": "code",
      "execution_count": null,
      "id": "24a26b44",
      "metadata": {
        "id": "24a26b44",
        "outputId": "3e374938-df24-43df-f4bb-3f295540fe80"
      },
      "outputs": [
        {
          "name": "stdout",
          "output_type": "stream",
          "text": [
            "{1: 'orange', 2: 'cherry', 3: 'kiwi', 4: 'berries', 5: 'grapes'}\n"
          ]
        }
      ],
      "source": [
        "mydict = ascii_string('apple', 'orange', 'cherry', 'kiwi', 'berries', 'grapes')\n",
        "print(mydict)"
      ]
    }
  ],
  "metadata": {
    "kernelspec": {
      "display_name": "Python 3",
      "language": "python",
      "name": "python3"
    },
    "language_info": {
      "codemirror_mode": {
        "name": "ipython",
        "version": 3
      },
      "file_extension": ".py",
      "mimetype": "text/x-python",
      "name": "python",
      "nbconvert_exporter": "python",
      "pygments_lexer": "ipython3",
      "version": "3.8.8"
    },
    "colab": {
      "provenance": []
    }
  },
  "nbformat": 4,
  "nbformat_minor": 5
}